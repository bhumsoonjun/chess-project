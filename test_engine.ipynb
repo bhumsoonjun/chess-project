{
 "cells": [
  {
   "cell_type": "code",
   "execution_count": 1,
   "metadata": {
    "collapsed": true,
    "pycharm": {
     "name": "#%%\n"
    },
    "ExecuteTime": {
     "end_time": "2023-08-02T07:02:32.276509Z",
     "start_time": "2023-08-02T07:02:32.168805Z"
    }
   },
   "outputs": [],
   "source": [
    "from numpy import ndarray\n",
    "\n",
    "from stockfish import Stockfish"
   ]
  },
  {
   "cell_type": "code",
   "execution_count": null,
   "outputs": [],
   "source": [
    "# settings\n",
    "settings = {\n",
    "    \"Debug Log File\": \"\",\n",
    "    \"Contempt\": 0,\n",
    "    \"Min Split Depth\": 0,\n",
    "    \"Threads\": 8, # More threads will make the engine stronger, but should be kept at less than the number of logical processors on your computer.\n",
    "    \"Ponder\": \"false\",\n",
    "    \"Hash\": 4096, # Default size is 16 MB. It's recommended that you increase this value, but keep it as some power of 2. E.g., if you're fine using 2 GB of RAM, set Hash to 2048 (11th power of 2).\n",
    "    \"MultiPV\": 1,\n",
    "    \"Skill Level\": 20,\n",
    "    \"Move Overhead\": 0,\n",
    "    \"Minimum Thinking Time\": 100,\n",
    "    \"Slow Mover\": 100,\n",
    "    \"UCI_Chess960\": \"false\",\n",
    "    \"UCI_LimitStrength\": \"false\",\n",
    "    \"UCI_Elo\": 3500\n",
    "}"
   ],
   "metadata": {
    "collapsed": false,
    "pycharm": {
     "name": "#%%\n"
    }
   }
  },
  {
   "cell_type": "code",
   "execution_count": null,
   "outputs": [],
   "source": [
    "stockfish = Stockfish(depth=20, parameters=settings)\n",
    "stockfish"
   ],
   "metadata": {
    "collapsed": false,
    "pycharm": {
     "name": "#%%\n"
    }
   }
  },
  {
   "cell_type": "code",
   "execution_count": null,
   "outputs": [],
   "source": [
    "stockfish.set_fen_position(\"rnbqkbnr/pppppppp/8/8/8/8/PPPPPPPP/RNBQKBNR w KQkq - 0 1\")"
   ],
   "metadata": {
    "collapsed": false,
    "pycharm": {
     "name": "#%%\n"
    }
   }
  },
  {
   "cell_type": "code",
   "execution_count": null,
   "outputs": [],
   "source": [
    "stockfish.get_top_moves(5)"
   ],
   "metadata": {
    "collapsed": false,
    "pycharm": {
     "name": "#%%\n"
    }
   }
  },
  {
   "cell_type": "code",
   "execution_count": null,
   "outputs": [],
   "source": [
    "stockfish.get_top_moves(3)"
   ],
   "metadata": {
    "collapsed": false,
    "pycharm": {
     "name": "#%%\n"
    }
   }
  },
  {
   "cell_type": "code",
   "execution_count": null,
   "outputs": [],
   "source": [
    "print(stockfish.get_board_visual())"
   ],
   "metadata": {
    "collapsed": false,
    "pycharm": {
     "name": "#%%\n"
    }
   }
  },
  {
   "cell_type": "code",
   "execution_count": null,
   "outputs": [],
   "source": [
    "stockfish.make_moves_from_current_position([\"d2d4\"])"
   ],
   "metadata": {
    "collapsed": false,
    "pycharm": {
     "name": "#%%\n"
    }
   }
  },
  {
   "cell_type": "code",
   "execution_count": null,
   "outputs": [],
   "source": [
    "print(stockfish.get_board_visual())"
   ],
   "metadata": {
    "collapsed": false,
    "pycharm": {
     "name": "#%%\n"
    }
   }
  },
  {
   "cell_type": "code",
   "execution_count": null,
   "outputs": [],
   "source": [
    "stockfish.get_top_moves(10)"
   ],
   "metadata": {
    "collapsed": false,
    "pycharm": {
     "name": "#%%\n"
    }
   }
  },
  {
   "cell_type": "code",
   "execution_count": null,
   "outputs": [],
   "source": [
    "stockfish.set_elo_rating(3500)\n",
    "stockfish.get_top_moves(10)"
   ],
   "metadata": {
    "collapsed": false,
    "pycharm": {
     "name": "#%%\n"
    }
   }
  },
  {
   "cell_type": "code",
   "execution_count": null,
   "outputs": [],
   "source": [
    "import platform\n",
    "import numpy as np\n",
    "platform.system()"
   ],
   "metadata": {
    "collapsed": false,
    "pycharm": {
     "name": "#%%\n"
    }
   }
  },
  {
   "cell_type": "code",
   "execution_count": null,
   "outputs": [],
   "source": [
    "stockfish.get_evaluation()"
   ],
   "metadata": {
    "collapsed": false,
    "pycharm": {
     "name": "#%%\n"
    }
   }
  },
  {
   "cell_type": "code",
   "execution_count": null,
   "outputs": [],
   "source": [
    "stockfish.set_fen_position(\"6qk/8/8/8/8/8/Q6p/7K b - - 0 1\")"
   ],
   "metadata": {
    "collapsed": false,
    "pycharm": {
     "name": "#%%\n"
    }
   }
  },
  {
   "cell_type": "code",
   "execution_count": null,
   "outputs": [],
   "source": [
    "stockfish.get_top_moves(10)"
   ],
   "metadata": {
    "collapsed": false,
    "pycharm": {
     "name": "#%%\n"
    }
   }
  },
  {
   "cell_type": "code",
   "execution_count": null,
   "outputs": [],
   "source": [
    "import json\n",
    "import numpy as np\n",
    "import pandas as pd\n",
    "from weighted_directed_graph import weighted_directed_graph\n",
    "with open(\"output/test/1\") as file:\n",
    "    s = file.read().replace(\"'\", \"\\\"\")\n",
    "    dc = json.loads(s)\n",
    "    print(dc)"
   ],
   "metadata": {
    "collapsed": false,
    "pycharm": {
     "name": "#%%\n"
    }
   }
  },
  {
   "cell_type": "code",
   "execution_count": null,
   "outputs": [],
   "source": [
    "from typing import Any\n",
    "\n",
    "states = [(-float(\"inf\"), -20), (-20, -10), (-10, -5), (-5, -3), (-3, -1), (-1, -0.5), (-0.5, 0.5), (0.5, 1), (1, 3), (3, 5), (5, 10), (10, 20), (20, float(\"inf\"))]\n",
    "states_as_string = list(map(lambda x: f\"{x}\", states))\n",
    "weights = None\n",
    "\n",
    "with open(\"output/test2/0.json\") as file:\n",
    "    s = file.read().replace(\"'\", \"\\\"\")\n",
    "    weights = json.loads(s)\n",
    "\n",
    "print(weights)\n",
    "all_states = [\"-1\"] + states_as_string + [\"1\"]\n",
    "\n",
    "def build_adjacency_matrix(weights):\n",
    "    num_states = len(states_as_string) + 2\n",
    "    all_states = [\"-1\"] + states_as_string + [\"1\"]\n",
    "    state_to_index_mapping = dict()\n",
    "    matrix = np.zeros(shape=(num_states, num_states))\n",
    "\n",
    "    for i, state_name in enumerate(all_states):\n",
    "        state_to_index_mapping[state_name] = i\n",
    "\n",
    "    for edge, weight in weights.items():\n",
    "        u, v = edge.split(\"|\")\n",
    "        u_ind = state_to_index_mapping[u]\n",
    "        v_ind = state_to_index_mapping[v]\n",
    "        matrix[u_ind, v_ind] = weight\n",
    "\n",
    "    return matrix\n",
    "\n",
    "def build_stochastic_matrix(adjacency_matrix: np.ndarray) -> Exception | Any:\n",
    "    n, d = adjacency_matrix.shape\n",
    "    if n != d:\n",
    "        return Exception(f\"n: {n} is not equal to d: {d} in adjacency matrix.\")\n",
    "    stochastic_matrix = np.zeros(shape=(n, n))\n",
    "    for i in range(n):\n",
    "        total_in_row = 0\n",
    "        for j in range(n):\n",
    "            total_in_row += adjacency_matrix[i, j]\n",
    "        if total_in_row != 0:\n",
    "            for j in range(n):\n",
    "                stochastic_matrix[i, j] = adjacency_matrix[i, j] / total_in_row\n",
    "    return stochastic_matrix\n",
    "\n",
    "adjacency_matrix = build_adjacency_matrix(weights)\n",
    "stochastic_matrix = build_stochastic_matrix(adjacency_matrix)\n",
    "stochastic_matrix"
   ],
   "metadata": {
    "collapsed": false,
    "pycharm": {
     "name": "#%%\n"
    }
   }
  },
  {
   "cell_type": "code",
   "execution_count": null,
   "outputs": [],
   "source": [
    "pd.DataFrame(stochastic_matrix, columns=all_states, index=all_states)"
   ],
   "metadata": {
    "collapsed": false,
    "pycharm": {
     "name": "#%%\n"
    }
   }
  },
  {
   "cell_type": "code",
   "execution_count": null,
   "outputs": [],
   "source": [],
   "metadata": {
    "collapsed": false,
    "pycharm": {
     "name": "#%%\n"
    }
   }
  },
  {
   "cell_type": "code",
   "execution_count": null,
   "outputs": [],
   "source": [
    "inputs = [f\"output/test2/{i}.json\" for i in range(5)]\n",
    "n = 15\n",
    "m = np.zeros(shape=(5, 15))\n",
    "\n",
    "for i in range(len(inputs)):\n",
    "    with open(inputs[i]) as file:\n",
    "        s = file.read().replace(\"'\", \"\\\"\")\n",
    "        weights = json.loads(s)\n",
    "        adj = build_adjacency_matrix(weights)\n",
    "        stoch = build_stochastic_matrix(adj)\n",
    "        m[i] = stoch[stoch.shape[0] // 2]\n",
    "\n",
    "pd.DataFrame(m, columns=all_states)"
   ],
   "metadata": {
    "collapsed": false,
    "pycharm": {
     "name": "#%%\n"
    }
   }
  },
  {
   "cell_type": "code",
   "execution_count": null,
   "outputs": [],
   "source": [
    "stockfish.set_fen_position(\"r1bqkb1r/p2n1p2/2p1pn2/1p2P1B1/2pP4/2N3P1/PP3P1P/R2QKB1R b KQkq - 0 11\")\n",
    "stockfish.get_top_moves(5)"
   ],
   "metadata": {
    "collapsed": false,
    "pycharm": {
     "name": "#%%\n"
    }
   }
  },
  {
   "cell_type": "code",
   "execution_count": null,
   "outputs": [],
   "source": [
    "import json\n",
    "from analyser import *\n",
    "def load_config(path: str) -> dict:\n",
    "    with open(path) as file:\n",
    "        raw_json_string = file.read()\n",
    "        config = json.loads(raw_json_string)\n",
    "        return config\n",
    "\n",
    "def write_res_to_file(path: str, res: Dict):\n",
    "    with open(path, \"w\") as file:\n",
    "        file.write(res.__str__())\n",
    "\n",
    "\n",
    "fen = \"2r2b1k/1p1n4/1P1P4/p2Bp2q/1BN1Pp1n/R4PrP/5R1K/5Q2 w - - 0 38\"\n",
    "path = \"output\"\n",
    "\n",
    "states = [(-float(\"inf\"), -20), (-20, -10), (-10, -5), (-5, -3), (-3, -1), (-1, -0.5), (-0.5, 0.5), (0.5, 1), (1, 3), (3, 5), (5, 10), (10, 20), (20, float(\"inf\"))]\n",
    "states_including_end_points = [-1] + states + [1]\n",
    "num_variations = 3\n",
    "depth = 3\n",
    "stockfish_depth = 20\n",
    "config = load_config(\"stockfish_confg.json\")\n",
    "\n",
    "model = analyser(states, num_variations, depth, stockfish_depth, config)\n",
    "adj, stoch, dist, expectation = model.eval_position(fen)\n",
    "df = pd.DataFrame(stoch, columns=states_including_end_points, index=states_including_end_points)\n",
    "print(expectation)\n",
    "\n",
    "write_res_to_file(f\"{path}/test/adj_\", adj)\n",
    "write_res_to_file(f\"{path}/test/stoch_\", df)\n",
    "write_res_to_file(f\"{path}/test/expectation_\", expectation)\n",
    "write_res_to_file(f\"{path}/test/dist_.\", dist)\n",
    "\n"
   ],
   "metadata": {
    "collapsed": false,
    "pycharm": {
     "name": "#%%\n"
    }
   }
  },
  {
   "cell_type": "code",
   "execution_count": null,
   "outputs": [],
   "source": [
    "df"
   ],
   "metadata": {
    "collapsed": false,
    "pycharm": {
     "name": "#%%\n"
    }
   }
  },
  {
   "cell_type": "code",
   "execution_count": null,
   "outputs": [],
   "source": [
    "adj"
   ],
   "metadata": {
    "collapsed": false,
    "pycharm": {
     "name": "#%%\n"
    }
   }
  },
  {
   "cell_type": "code",
   "execution_count": null,
   "outputs": [],
   "source": [
    "mat = 0.95 * stoch + (1 - 0.95) * 1/15\n",
    "mat"
   ],
   "metadata": {
    "collapsed": false,
    "pycharm": {
     "name": "#%%\n"
    }
   }
  },
  {
   "cell_type": "code",
   "execution_count": null,
   "outputs": [],
   "source": [
    "mat ** 5"
   ],
   "metadata": {
    "collapsed": false,
    "pycharm": {
     "name": "#%%\n"
    }
   }
  },
  {
   "cell_type": "code",
   "execution_count": null,
   "outputs": [],
   "source": [
    "3.175672e-01 * -4"
   ],
   "metadata": {
    "collapsed": false,
    "pycharm": {
     "name": "#%%\n"
    }
   }
  },
  {
   "cell_type": "code",
   "execution_count": null,
   "outputs": [],
   "source": [
    "expectation"
   ],
   "metadata": {
    "collapsed": false,
    "pycharm": {
     "name": "#%%\n"
    }
   }
  },
  {
   "cell_type": "code",
   "execution_count": null,
   "outputs": [],
   "source": [
    "temp = mat ** 5\n",
    "temp"
   ],
   "metadata": {
    "collapsed": false,
    "pycharm": {
     "name": "#%%\n"
    }
   }
  },
  {
   "cell_type": "code",
   "execution_count": null,
   "outputs": [],
   "source": [
    "temp[7]"
   ],
   "metadata": {
    "collapsed": false,
    "pycharm": {
     "name": "#%%\n"
    }
   }
  },
  {
   "cell_type": "code",
   "execution_count": null,
   "outputs": [],
   "source": [],
   "metadata": {
    "collapsed": false,
    "pycharm": {
     "name": "#%%\n"
    }
   }
  },
  {
   "cell_type": "code",
   "execution_count": null,
   "outputs": [],
   "source": [
    "expectation = 0\n",
    "for state, prob in zip(states[1:-1], temp[7][2:-2]):\n",
    "    mid = (state[0] + state[1])/2\n",
    "    print(state, prob)\n",
    "    expectation += mid * prob"
   ],
   "metadata": {
    "collapsed": false,
    "pycharm": {
     "name": "#%%\n"
    }
   }
  },
  {
   "cell_type": "code",
   "execution_count": null,
   "outputs": [],
   "source": [
    "expectation"
   ],
   "metadata": {
    "collapsed": false,
    "pycharm": {
     "name": "#%%\n"
    }
   }
  }
 ],
 "metadata": {
  "kernelspec": {
   "display_name": "Python 3",
   "language": "python",
   "name": "python3"
  },
  "language_info": {
   "codemirror_mode": {
    "name": "ipython",
    "version": 2
   },
   "file_extension": ".py",
   "mimetype": "text/x-python",
   "name": "python",
   "nbconvert_exporter": "python",
   "pygments_lexer": "ipython2",
   "version": "2.7.6"
  }
 },
 "nbformat": 4,
 "nbformat_minor": 0
}