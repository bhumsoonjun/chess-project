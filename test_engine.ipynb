{
 "cells": [
  {
   "cell_type": "code",
   "execution_count": 228,
   "outputs": [],
   "source": [
    "from numpy import ndarray\n",
    "\n",
    "from stockfish import Stockfish"
   ],
   "metadata": {
    "collapsed": false,
    "pycharm": {
     "name": "#%%\n"
    }
   }
  },
  {
   "cell_type": "code",
   "execution_count": 273,
   "outputs": [],
   "source": [
    "# settings\n",
    "settings = {\n",
    "    \"Debug Log File\": \"\",\n",
    "    \"Contempt\": 0,\n",
    "    \"Min Split Depth\": 0,\n",
    "    \"Threads\": 2, # More threads will make the engine stronger, but should be kept at less than the number of logical processors on your computer.\n",
    "    \"Ponder\": \"false\",\n",
    "    \"Hash\": 4096, # Default size is 16 MB. It's recommended that you increase this value, but keep it as some power of 2. E.g., if you're fine using 2 GB of RAM, set Hash to 2048 (11th power of 2).\n",
    "    \"MultiPV\": 1,\n",
    "    \"Skill Level\": 1,\n",
    "    \"Move Overhead\": 0,\n",
    "    \"Minimum Thinking Time\": 100,\n",
    "    \"Slow Mover\": 100,\n",
    "    \"UCI_Chess960\": \"false\",\n",
    "    \"UCI_LimitStrength\": \"true\",\n",
    "    \"UCI_Elo\": 3100\n",
    "}"
   ],
   "metadata": {
    "collapsed": false,
    "pycharm": {
     "name": "#%%\n"
    }
   }
  },
  {
   "cell_type": "code",
   "execution_count": 274,
   "outputs": [
    {
     "data": {
      "text/plain": "<stockfish.models.Stockfish at 0x1f3aab8b730>"
     },
     "execution_count": 274,
     "metadata": {},
     "output_type": "execute_result"
    }
   ],
   "source": [
    "stockfish = Stockfish(path=\"stockfish/stockfish-windows-x86-64-avx2.exe\",depth=20, parameters=settings)\n",
    "stockfish"
   ],
   "metadata": {
    "collapsed": false,
    "pycharm": {
     "name": "#%%\n"
    }
   }
  },
  {
   "cell_type": "code",
   "execution_count": 275,
   "outputs": [],
   "source": [
    "stockfish.set_fen_position(\"2brrnk1/pp2bppp/1q2p3/4N3/4B3/1P6/PBP1QPPP/R2R2K1 w - - 1 18\")"
   ],
   "metadata": {
    "collapsed": false,
    "pycharm": {
     "name": "#%%\n"
    }
   }
  },
  {
   "cell_type": "code",
   "execution_count": 276,
   "outputs": [
    {
     "data": {
      "text/plain": "[{'Move': 'e5c4', 'Centipawn': 68, 'Mate': None},\n {'Move': 'a2a4', 'Centipawn': 35, 'Mate': None},\n {'Move': 'h2h4', 'Centipawn': 28, 'Mate': None},\n {'Move': 'd1d8', 'Centipawn': 25, 'Mate': None},\n {'Move': 'g2g3', 'Centipawn': 25, 'Mate': None},\n {'Move': 'h2h3', 'Centipawn': 24, 'Mate': None},\n {'Move': 'e4f3', 'Centipawn': 23, 'Mate': None},\n {'Move': 'd1d3', 'Centipawn': 23, 'Mate': None},\n {'Move': 'a2a3', 'Centipawn': 20, 'Mate': None},\n {'Move': 'a1b1', 'Centipawn': 17, 'Mate': None}]"
     },
     "execution_count": 276,
     "metadata": {},
     "output_type": "execute_result"
    }
   ],
   "source": [
    "stockfish.get_top_moves(10)"
   ],
   "metadata": {
    "collapsed": false,
    "pycharm": {
     "name": "#%%\n"
    }
   }
  },
  {
   "cell_type": "code",
   "execution_count": 277,
   "outputs": [
    {
     "name": "stdout",
     "output_type": "stream",
     "text": [
      "+---+---+---+---+---+---+---+---+\n",
      "|   |   | b | r | r | n | k |   | 8\n",
      "+---+---+---+---+---+---+---+---+\n",
      "| p | p |   |   | b | p | p | p | 7\n",
      "+---+---+---+---+---+---+---+---+\n",
      "|   | q |   |   | p |   |   |   | 6\n",
      "+---+---+---+---+---+---+---+---+\n",
      "|   |   |   |   | N |   |   |   | 5\n",
      "+---+---+---+---+---+---+---+---+\n",
      "|   |   |   |   | B |   |   |   | 4\n",
      "+---+---+---+---+---+---+---+---+\n",
      "|   | P |   |   |   |   |   |   | 3\n",
      "+---+---+---+---+---+---+---+---+\n",
      "| P | B | P |   | Q | P | P | P | 2\n",
      "+---+---+---+---+---+---+---+---+\n",
      "| R |   |   | R |   |   | K |   | 1\n",
      "+---+---+---+---+---+---+---+---+\n",
      "  a   b   c   d   e   f   g   h\n",
      "\n"
     ]
    }
   ],
   "source": [
    "print(stockfish.get_board_visual())"
   ],
   "metadata": {
    "collapsed": false,
    "pycharm": {
     "name": "#%%\n"
    }
   }
  },
  {
   "cell_type": "code",
   "execution_count": 278,
   "outputs": [
    {
     "data": {
      "text/plain": "'e5c4'"
     },
     "execution_count": 278,
     "metadata": {},
     "output_type": "execute_result"
    }
   ],
   "source": [
    "stockfish.set_elo_rating(1320)\n",
    "stockfish.set_depth(20)\n",
    "stockfish.get_best_move()"
   ],
   "metadata": {
    "collapsed": false,
    "pycharm": {
     "name": "#%%\n"
    }
   }
  },
  {
   "cell_type": "code",
   "execution_count": 279,
   "outputs": [
    {
     "data": {
      "text/plain": "{'Debug Log File': '',\n 'Contempt': 0,\n 'Min Split Depth': 0,\n 'Ponder': 'false',\n 'MultiPV': 1,\n 'Skill Level': 1,\n 'Move Overhead': 0,\n 'Minimum Thinking Time': 100,\n 'Slow Mover': 100,\n 'UCI_Chess960': 'false',\n 'UCI_LimitStrength': 'true',\n 'UCI_Elo': 1320,\n 'Threads': 2,\n 'Hash': 4096}"
     },
     "execution_count": 279,
     "metadata": {},
     "output_type": "execute_result"
    }
   ],
   "source": [
    "stockfish.get_parameters()"
   ],
   "metadata": {
    "collapsed": false,
    "pycharm": {
     "name": "#%%\n"
    }
   }
  },
  {
   "cell_type": "code",
   "execution_count": 280,
   "outputs": [
    {
     "data": {
      "text/plain": "[{'Move': 'e5c4', 'Centipawn': 73, 'Mate': None},\n {'Move': 'a2a4', 'Centipawn': 33, 'Mate': None},\n {'Move': 'h2h3', 'Centipawn': 24, 'Mate': None},\n {'Move': 'a2a3', 'Centipawn': 23, 'Mate': None},\n {'Move': 'g2g3', 'Centipawn': 23, 'Mate': None},\n {'Move': 'h2h4', 'Centipawn': 21, 'Mate': None},\n {'Move': 'a1b1', 'Centipawn': 20, 'Mate': None},\n {'Move': 'e2c4', 'Centipawn': 19, 'Mate': None},\n {'Move': 'd1d8', 'Centipawn': 16, 'Mate': None},\n {'Move': 'e4f3', 'Centipawn': 14, 'Mate': None}]"
     },
     "execution_count": 280,
     "metadata": {},
     "output_type": "execute_result"
    }
   ],
   "source": [
    "stockfish.get_top_moves(10)"
   ],
   "metadata": {
    "collapsed": false,
    "pycharm": {
     "name": "#%%\n"
    }
   }
  },
  {
   "cell_type": "code",
   "execution_count": 101,
   "outputs": [
    {
     "ename": "ValueError",
     "evalue": "Cannot make move: d2d4",
     "output_type": "error",
     "traceback": [
      "\u001B[1;31m---------------------------------------------------------------------------\u001B[0m",
      "\u001B[1;31mValueError\u001B[0m                                Traceback (most recent call last)",
      "Input \u001B[1;32mIn [101]\u001B[0m, in \u001B[0;36m<cell line: 1>\u001B[1;34m()\u001B[0m\n\u001B[1;32m----> 1\u001B[0m \u001B[43mstockfish\u001B[49m\u001B[38;5;241;43m.\u001B[39;49m\u001B[43mmake_moves_from_current_position\u001B[49m\u001B[43m(\u001B[49m\u001B[43m[\u001B[49m\u001B[38;5;124;43m\"\u001B[39;49m\u001B[38;5;124;43md2d4\u001B[39;49m\u001B[38;5;124;43m\"\u001B[39;49m\u001B[43m]\u001B[49m\u001B[43m)\u001B[49m\n",
      "File \u001B[1;32m~\\AppData\\Local\\Packages\\PythonSoftwareFoundation.Python.3.10_qbz5n2kfra8p0\\LocalCache\\local-packages\\Python310\\site-packages\\stockfish\\models.py:238\u001B[0m, in \u001B[0;36mStockfish.make_moves_from_current_position\u001B[1;34m(self, moves)\u001B[0m\n\u001B[0;32m    236\u001B[0m \u001B[38;5;28;01mfor\u001B[39;00m move \u001B[38;5;129;01min\u001B[39;00m moves:\n\u001B[0;32m    237\u001B[0m     \u001B[38;5;28;01mif\u001B[39;00m \u001B[38;5;129;01mnot\u001B[39;00m \u001B[38;5;28mself\u001B[39m\u001B[38;5;241m.\u001B[39mis_move_correct(move):\n\u001B[1;32m--> 238\u001B[0m         \u001B[38;5;28;01mraise\u001B[39;00m \u001B[38;5;167;01mValueError\u001B[39;00m(\u001B[38;5;124mf\u001B[39m\u001B[38;5;124m\"\u001B[39m\u001B[38;5;124mCannot make move: \u001B[39m\u001B[38;5;132;01m{\u001B[39;00mmove\u001B[38;5;132;01m}\u001B[39;00m\u001B[38;5;124m\"\u001B[39m)\n\u001B[0;32m    239\u001B[0m     \u001B[38;5;28mself\u001B[39m\u001B[38;5;241m.\u001B[39m_put(\u001B[38;5;124mf\u001B[39m\u001B[38;5;124m\"\u001B[39m\u001B[38;5;124mposition fen \u001B[39m\u001B[38;5;132;01m{\u001B[39;00m\u001B[38;5;28mself\u001B[39m\u001B[38;5;241m.\u001B[39mget_fen_position()\u001B[38;5;132;01m}\u001B[39;00m\u001B[38;5;124m moves \u001B[39m\u001B[38;5;132;01m{\u001B[39;00mmove\u001B[38;5;132;01m}\u001B[39;00m\u001B[38;5;124m\"\u001B[39m)\n",
      "\u001B[1;31mValueError\u001B[0m: Cannot make move: d2d4"
     ]
    }
   ],
   "source": [
    "stockfish.make_moves_from_current_position([\"d2d4\"])"
   ],
   "metadata": {
    "collapsed": false,
    "pycharm": {
     "name": "#%%\n"
    }
   }
  },
  {
   "cell_type": "code",
   "execution_count": null,
   "outputs": [],
   "source": [
    "print(stockfish.get_board_visual())"
   ],
   "metadata": {
    "collapsed": false,
    "pycharm": {
     "name": "#%%\n"
    }
   }
  },
  {
   "cell_type": "code",
   "execution_count": null,
   "outputs": [],
   "source": [
    "stockfish.get_top_moves(10)"
   ],
   "metadata": {
    "collapsed": false,
    "pycharm": {
     "name": "#%%\n"
    }
   }
  },
  {
   "cell_type": "code",
   "execution_count": null,
   "outputs": [],
   "source": [
    "stockfish.set_elo_rating(3500)\n",
    "stockfish.get_top_moves(10)"
   ],
   "metadata": {
    "collapsed": false,
    "pycharm": {
     "name": "#%%\n"
    }
   }
  },
  {
   "cell_type": "code",
   "execution_count": null,
   "outputs": [],
   "source": [
    "import platform\n",
    "import numpy as np\n",
    "platform.system()"
   ],
   "metadata": {
    "collapsed": false,
    "pycharm": {
     "name": "#%%\n"
    }
   }
  },
  {
   "cell_type": "code",
   "execution_count": null,
   "outputs": [],
   "source": [
    "stockfish.get_evaluation()"
   ],
   "metadata": {
    "collapsed": false,
    "pycharm": {
     "name": "#%%\n"
    }
   }
  },
  {
   "cell_type": "code",
   "execution_count": null,
   "outputs": [],
   "source": [
    "stockfish.set_fen_position(\"6qk/8/8/8/8/8/Q6p/7K b - - 0 1\")"
   ],
   "metadata": {
    "collapsed": false,
    "pycharm": {
     "name": "#%%\n"
    }
   }
  },
  {
   "cell_type": "code",
   "execution_count": null,
   "outputs": [],
   "source": [
    "stockfish.get_top_moves(10)"
   ],
   "metadata": {
    "collapsed": false,
    "pycharm": {
     "name": "#%%\n"
    }
   }
  },
  {
   "cell_type": "code",
   "execution_count": null,
   "outputs": [],
   "source": [
    "import json\n",
    "import numpy as np\n",
    "import pandas as pd\n",
    "from weighted_directed_graph import weighted_directed_graph\n",
    "with open(\"output/test/1\") as file:\n",
    "    s = file.read().replace(\"'\", \"\\\"\")\n",
    "    dc = json.loads(s)\n",
    "    print(dc)"
   ],
   "metadata": {
    "collapsed": false,
    "pycharm": {
     "name": "#%%\n"
    }
   }
  },
  {
   "cell_type": "code",
   "execution_count": null,
   "outputs": [],
   "source": [
    "from typing import Any\n",
    "\n",
    "states = [(-float(\"inf\"), -20), (-20, -10), (-10, -5), (-5, -3), (-3, -1), (-1, -0.5), (-0.5, 0.5), (0.5, 1), (1, 3), (3, 5), (5, 10), (10, 20), (20, float(\"inf\"))]\n",
    "states_as_string = list(map(lambda x: f\"{x}\", states))\n",
    "weights = None\n",
    "\n",
    "with open(\"output/test2/0.json\") as file:\n",
    "    s = file.read().replace(\"'\", \"\\\"\")\n",
    "    weights = json.loads(s)\n",
    "\n",
    "print(weights)\n",
    "all_states = [\"-1\"] + states_as_string + [\"1\"]\n",
    "\n",
    "def build_adjacency_matrix(weights):\n",
    "    num_states = len(states_as_string) + 2\n",
    "    all_states = [\"-1\"] + states_as_string + [\"1\"]\n",
    "    state_to_index_mapping = dict()\n",
    "    matrix = np.zeros(shape=(num_states, num_states))\n",
    "\n",
    "    for i, state_name in enumerate(all_states):\n",
    "        state_to_index_mapping[state_name] = i\n",
    "\n",
    "    for edge, weight in weights.items():\n",
    "        u, v = edge.split(\"|\")\n",
    "        u_ind = state_to_index_mapping[u]\n",
    "        v_ind = state_to_index_mapping[v]\n",
    "        matrix[u_ind, v_ind] = weight\n",
    "\n",
    "    return matrix\n",
    "\n",
    "def build_stochastic_matrix(adjacency_matrix: np.ndarray) -> Exception | Any:\n",
    "    n, d = adjacency_matrix.shape\n",
    "    if n != d:\n",
    "        return Exception(f\"n: {n} is not equal to d: {d} in adjacency matrix.\")\n",
    "    stochastic_matrix = np.zeros(shape=(n, n))\n",
    "    for i in range(n):\n",
    "        total_in_row = 0\n",
    "        for j in range(n):\n",
    "            total_in_row += adjacency_matrix[i, j]\n",
    "        if total_in_row != 0:\n",
    "            for j in range(n):\n",
    "                stochastic_matrix[i, j] = adjacency_matrix[i, j] / total_in_row\n",
    "    return stochastic_matrix\n",
    "\n",
    "adjacency_matrix = build_adjacency_matrix(weights)\n",
    "stochastic_matrix = build_stochastic_matrix(adjacency_matrix)\n",
    "stochastic_matrix"
   ],
   "metadata": {
    "collapsed": false,
    "pycharm": {
     "name": "#%%\n"
    }
   }
  },
  {
   "cell_type": "code",
   "execution_count": null,
   "outputs": [],
   "source": [
    "pd.DataFrame(stochastic_matrix, columns=all_states, index=all_states)"
   ],
   "metadata": {
    "collapsed": false,
    "pycharm": {
     "name": "#%%\n"
    }
   }
  },
  {
   "cell_type": "code",
   "execution_count": null,
   "outputs": [],
   "source": [],
   "metadata": {
    "collapsed": false,
    "pycharm": {
     "name": "#%%\n"
    }
   }
  },
  {
   "cell_type": "code",
   "execution_count": null,
   "outputs": [],
   "source": [
    "inputs = [f\"output/test2/{i}.json\" for i in range(5)]\n",
    "n = 15\n",
    "m = np.zeros(shape=(5, 15))\n",
    "\n",
    "for i in range(len(inputs)):\n",
    "    with open(inputs[i]) as file:\n",
    "        s = file.read().replace(\"'\", \"\\\"\")\n",
    "        weights = json.loads(s)\n",
    "        adj = build_adjacency_matrix(weights)\n",
    "        stoch = build_stochastic_matrix(adj)\n",
    "        m[i] = stoch[stoch.shape[0] // 2]\n",
    "\n",
    "pd.DataFrame(m, columns=all_states)"
   ],
   "metadata": {
    "collapsed": false,
    "pycharm": {
     "name": "#%%\n"
    }
   }
  },
  {
   "cell_type": "code",
   "execution_count": null,
   "outputs": [],
   "source": [
    "stockfish.set_fen_position(\"r1bqkb1r/p2n1p2/2p1pn2/1p2P1B1/2pP4/2N3P1/PP3P1P/R2QKB1R b KQkq - 0 11\")\n",
    "stockfish.get_top_moves(5)"
   ],
   "metadata": {
    "collapsed": false,
    "pycharm": {
     "name": "#%%\n"
    }
   }
  },
  {
   "cell_type": "code",
   "execution_count": null,
   "outputs": [],
   "source": [
    "print(stockfish.get_board_visual())"
   ],
   "metadata": {
    "collapsed": false,
    "pycharm": {
     "name": "#%%\n"
    },
    "ExecuteTime": {
     "end_time": "2023-08-02T07:09:23.613327Z",
     "start_time": "2023-08-02T07:09:23.610254Z"
    }
   }
  },
  {
   "cell_type": "code",
   "execution_count": null,
   "outputs": [],
   "source": [
    "stockfish.get_top_moves(10)"
   ],
   "metadata": {
    "collapsed": false,
    "pycharm": {
     "name": "#%%\n"
    },
    "ExecuteTime": {
     "end_time": "2023-08-02T07:10:06.538668Z",
     "start_time": "2023-08-02T07:10:04.107389Z"
    }
   }
  },
  {
   "cell_type": "code",
   "execution_count": null,
   "outputs": [],
   "source": [
    "stockfish.set_elo_rating(3500)\n",
    "stockfish.get_top_moves(10)"
   ],
   "metadata": {
    "collapsed": false,
    "ExecuteTime": {
     "end_time": "2023-08-02T07:11:21.481912Z",
     "start_time": "2023-08-02T07:11:19.996301Z"
    },
    "pycharm": {
     "name": "#%%\n"
    }
   }
  },
  {
   "cell_type": "code",
   "execution_count": null,
   "outputs": [],
   "source": [
    "import platform\n",
    "import numpy as np\n",
    "platform.system()"
   ],
   "metadata": {
    "collapsed": false,
    "pycharm": {
     "name": "#%%\n"
    },
    "ExecuteTime": {
     "end_time": "2023-07-30T07:27:33.727740Z",
     "start_time": "2023-07-30T07:27:33.725379Z"
    }
   }
  },
  {
   "cell_type": "code",
   "execution_count": null,
   "outputs": [],
   "source": [
    "stockfish.get_evaluation()"
   ],
   "metadata": {
    "collapsed": false,
    "ExecuteTime": {
     "end_time": "2023-07-30T07:27:33.802312Z",
     "start_time": "2023-07-30T07:27:33.728292Z"
    },
    "pycharm": {
     "name": "#%%\n"
    }
   }
  },
  {
   "cell_type": "code",
   "execution_count": null,
   "outputs": [],
   "source": [
    "stockfish.set_fen_position(\"6qk/8/8/8/8/8/Q6p/7K b - - 0 1\")"
   ],
   "metadata": {
    "collapsed": false,
    "ExecuteTime": {
     "end_time": "2023-07-30T07:27:33.828651Z",
     "start_time": "2023-07-30T07:27:33.806037Z"
    },
    "pycharm": {
     "name": "#%%\n"
    }
   }
  },
  {
   "cell_type": "code",
   "execution_count": null,
   "outputs": [],
   "source": [
    "stockfish.get_top_moves(10)"
   ],
   "metadata": {
    "collapsed": false,
    "ExecuteTime": {
     "end_time": "2023-07-30T07:27:34.155106Z",
     "start_time": "2023-07-30T07:27:33.815271Z"
    },
    "pycharm": {
     "name": "#%%\n"
    }
   }
  },
  {
   "cell_type": "code",
   "execution_count": null,
   "outputs": [],
   "source": [
    "import json\n",
    "import numpy as np\n",
    "import pandas as pd\n",
    "from weighted_directed_graph import weighted_directed_graph\n",
    "with open(\"output/test/1\") as file:\n",
    "    s = file.read().replace(\"'\", \"\\\"\")\n",
    "    dc = json.loads(s)\n",
    "    print(dc)"
   ],
   "metadata": {
    "collapsed": false,
    "ExecuteTime": {
     "end_time": "2023-07-30T07:27:34.155343Z",
     "start_time": "2023-07-30T07:27:34.145449Z"
    },
    "pycharm": {
     "name": "#%%\n"
    }
   }
  },
  {
   "cell_type": "code",
   "execution_count": null,
   "outputs": [],
   "source": [
    "from typing import Any\n",
    "\n",
    "states = [(-float(\"inf\"), -20), (-20, -10), (-10, -5), (-5, -3), (-3, -1), (-1, -0.5), (-0.5, 0.5), (0.5, 1), (1, 3), (3, 5), (5, 10), (10, 20), (20, float(\"inf\"))]\n",
    "states_as_string = list(map(lambda x: f\"{x}\", states))\n",
    "weights = None\n",
    "\n",
    "with open(\"output/test2/0.json\") as file:\n",
    "    s = file.read().replace(\"'\", \"\\\"\")\n",
    "    weights = json.loads(s)\n",
    "\n",
    "print(weights)\n",
    "all_states = [\"-1\"] + states_as_string + [\"1\"]\n",
    "\n",
    "def build_adjacency_matrix(weights):\n",
    "    num_states = len(states_as_string) + 2\n",
    "    all_states = [\"-1\"] + states_as_string + [\"1\"]\n",
    "    state_to_index_mapping = dict()\n",
    "    matrix = np.zeros(shape=(num_states, num_states))\n",
    "\n",
    "    for i, state_name in enumerate(all_states):\n",
    "        state_to_index_mapping[state_name] = i\n",
    "\n",
    "    for edge, weight in weights.items():\n",
    "        u, v = edge.split(\"|\")\n",
    "        u_ind = state_to_index_mapping[u]\n",
    "        v_ind = state_to_index_mapping[v]\n",
    "        matrix[u_ind, v_ind] = weight\n",
    "\n",
    "    return matrix\n",
    "\n",
    "def build_stochastic_matrix(adjacency_matrix: np.ndarray) -> Exception | Any:\n",
    "    n, d = adjacency_matrix.shape\n",
    "    if n != d:\n",
    "        return Exception(f\"n: {n} is not equal to d: {d} in adjacency matrix.\")\n",
    "    stochastic_matrix = np.zeros(shape=(n, n))\n",
    "    for i in range(n):\n",
    "        total_in_row = 0\n",
    "        for j in range(n):\n",
    "            total_in_row += adjacency_matrix[i, j]\n",
    "        if total_in_row != 0:\n",
    "            for j in range(n):\n",
    "                stochastic_matrix[i, j] = adjacency_matrix[i, j] / total_in_row\n",
    "    return stochastic_matrix\n",
    "\n",
    "adjacency_matrix = build_adjacency_matrix(weights)\n",
    "stochastic_matrix = build_stochastic_matrix(adjacency_matrix)\n",
    "stochastic_matrix"
   ],
   "metadata": {
    "collapsed": false,
    "ExecuteTime": {
     "end_time": "2023-07-30T07:27:34.155531Z",
     "start_time": "2023-07-30T07:27:34.155012Z"
    },
    "pycharm": {
     "name": "#%%\n"
    }
   }
  },
  {
   "cell_type": "code",
   "execution_count": null,
   "outputs": [],
   "source": [
    "pd.DataFrame(stochastic_matrix, columns=all_states, index=all_states)"
   ],
   "metadata": {
    "collapsed": false,
    "ExecuteTime": {
     "end_time": "2023-07-30T07:27:34.167390Z",
     "start_time": "2023-07-30T07:27:34.164858Z"
    },
    "pycharm": {
     "name": "#%%\n"
    }
   }
  },
  {
   "cell_type": "code",
   "execution_count": null,
   "outputs": [],
   "source": [],
   "metadata": {
    "collapsed": false,
    "ExecuteTime": {
     "end_time": "2023-07-30T07:27:34.168773Z",
     "start_time": "2023-07-30T07:27:34.166753Z"
    },
    "pycharm": {
     "name": "#%%\n"
    }
   }
  },
  {
   "cell_type": "code",
   "execution_count": null,
   "outputs": [],
   "source": [
    "inputs = [f\"output/test2/{i}.json\" for i in range(5)]\n",
    "n = 15\n",
    "m = np.zeros(shape=(5, 15))\n",
    "\n",
    "for i in range(len(inputs)):\n",
    "    with open(inputs[i]) as file:\n",
    "        s = file.read().replace(\"'\", \"\\\"\")\n",
    "        weights = json.loads(s)\n",
    "        adj = build_adjacency_matrix(weights)\n",
    "        stoch = build_stochastic_matrix(adj)\n",
    "        m[i] = stoch[stoch.shape[0] // 2]\n",
    "\n",
    "pd.DataFrame(m, columns=all_states)"
   ],
   "metadata": {
    "collapsed": false,
    "ExecuteTime": {
     "end_time": "2023-07-30T07:27:34.176315Z",
     "start_time": "2023-07-30T07:27:34.169530Z"
    },
    "pycharm": {
     "name": "#%%\n"
    }
   }
  },
  {
   "cell_type": "code",
   "execution_count": null,
   "outputs": [],
   "source": [
    "stockfish.set_fen_position(\"r1bqkb1r/p2n1p2/2p1pn2/1p2P1B1/2pP4/2N3P1/PP3P1P/R2QKB1R b KQkq - 0 11\")\n",
    "stockfish.get_top_moves(5)"
   ],
   "metadata": {
    "collapsed": false,
    "pycharm": {
     "name": "#%%\n"
    }
   }
  },
  {
   "cell_type": "code",
   "execution_count": null,
   "outputs": [],
   "source": [],
   "metadata": {
    "collapsed": false,
    "ExecuteTime": {
     "end_time": "2023-07-30T07:27:36.767649Z",
     "start_time": "2023-07-30T07:27:30.408500Z"
    },
    "pycharm": {
     "name": "#%%\n"
    }
   }
  }
 ],
 "metadata": {
  "kernelspec": {
   "display_name": "Python 3",
   "language": "python",
   "name": "python3"
  },
  "language_info": {
   "codemirror_mode": {
    "name": "ipython",
    "version": 2
   },
   "file_extension": ".py",
   "mimetype": "text/x-python",
   "name": "python",
   "nbconvert_exporter": "python",
   "pygments_lexer": "ipython2",
   "version": "2.7.6"
  }
 },
 "nbformat": 4,
 "nbformat_minor": 0
}