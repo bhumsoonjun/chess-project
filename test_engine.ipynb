{
 "cells": [
  {
   "cell_type": "code",
   "execution_count": 1,
   "metadata": {
    "collapsed": true,
    "pycharm": {
     "name": "#%%\n"
    },
    "ExecuteTime": {
     "end_time": "2023-08-02T07:02:32.276509Z",
     "start_time": "2023-08-02T07:02:32.168805Z"
    }
   },
   "outputs": [],
   "source": [
    "from numpy import ndarray\n",
    "\n",
    "from stockfish import Stockfish"
   ]
  },
  {
   "cell_type": "code",
   "execution_count": 2,
   "outputs": [],
   "source": [
    "# settings\n",
    "settings = {\n",
    "    \"Debug Log File\": \"\",\n",
    "    \"Contempt\": 0,\n",
    "    \"Min Split Depth\": 0,\n",
    "    \"Threads\": 8, # More threads will make the engine stronger, but should be kept at less than the number of logical processors on your computer.\n",
    "    \"Ponder\": \"false\",\n",
    "    \"Hash\": 4096, # Default size is 16 MB. It's recommended that you increase this value, but keep it as some power of 2. E.g., if you're fine using 2 GB of RAM, set Hash to 2048 (11th power of 2).\n",
    "    \"MultiPV\": 1,\n",
    "    \"Skill Level\": 20,\n",
    "    \"Move Overhead\": 0,\n",
    "    \"Minimum Thinking Time\": 100,\n",
    "    \"Slow Mover\": 100,\n",
    "    \"UCI_Chess960\": \"false\",\n",
    "    \"UCI_LimitStrength\": \"false\",\n",
    "    \"UCI_Elo\": 3500\n",
    "}"
   ],
   "metadata": {
    "collapsed": false,
    "pycharm": {
     "name": "#%%\n"
    },
    "ExecuteTime": {
     "end_time": "2023-08-02T07:02:37.986358Z",
     "start_time": "2023-08-02T07:02:37.980303Z"
    }
   }
  },
  {
   "cell_type": "code",
   "execution_count": 3,
   "outputs": [
    {
     "data": {
      "text/plain": "<stockfish.models.Stockfish at 0x1055b1c90>"
     },
     "execution_count": 3,
     "metadata": {},
     "output_type": "execute_result"
    }
   ],
   "source": [
    "stockfish = Stockfish(depth=20, parameters=settings)\n",
    "stockfish"
   ],
   "metadata": {
    "collapsed": false,
    "pycharm": {
     "name": "#%%\n"
    },
    "ExecuteTime": {
     "end_time": "2023-08-02T07:02:42.603402Z",
     "start_time": "2023-08-02T07:02:42.199852Z"
    }
   }
  },
  {
   "cell_type": "code",
   "execution_count": 6,
   "outputs": [],
   "source": [
    "stockfish.set_fen_position(\"rnbqkbnr/pppppppp/8/8/8/8/PPPPPPPP/RNBQKBNR w KQkq - 0 1\")"
   ],
   "metadata": {
    "collapsed": false,
    "pycharm": {
     "name": "#%%\n"
    },
    "ExecuteTime": {
     "end_time": "2023-08-02T07:07:41.631582Z",
     "start_time": "2023-08-02T07:07:41.611902Z"
    }
   }
  },
  {
   "cell_type": "code",
   "execution_count": 7,
   "outputs": [
    {
     "data": {
      "text/plain": "[{'Move': 'd2d4', 'Centipawn': 38, 'Mate': None},\n {'Move': 'g1f3', 'Centipawn': 35, 'Mate': None},\n {'Move': 'e2e4', 'Centipawn': 34, 'Mate': None},\n {'Move': 'c2c4', 'Centipawn': 26, 'Mate': None},\n {'Move': 'g2g3', 'Centipawn': 23, 'Mate': None}]"
     },
     "execution_count": 7,
     "metadata": {},
     "output_type": "execute_result"
    }
   ],
   "source": [
    "stockfish.get_top_moves(5)"
   ],
   "metadata": {
    "collapsed": false,
    "pycharm": {
     "name": "#%%\n"
    },
    "ExecuteTime": {
     "end_time": "2023-08-02T07:07:47.874628Z",
     "start_time": "2023-08-02T07:07:45.773282Z"
    }
   }
  },
  {
   "cell_type": "code",
   "execution_count": 103,
   "outputs": [
    {
     "data": {
      "text/plain": "[{'Move': 'b1c3', 'Centipawn': 39, 'Mate': None},\n {'Move': 'd2d4', 'Centipawn': 39, 'Mate': None},\n {'Move': 'g1f3', 'Centipawn': 24, 'Mate': None}]"
     },
     "execution_count": 103,
     "metadata": {},
     "output_type": "execute_result"
    }
   ],
   "source": [
    "stockfish.get_top_moves(3)"
   ],
   "metadata": {
    "collapsed": false,
    "pycharm": {
     "name": "#%%\n"
    },
    "ExecuteTime": {
     "end_time": "2023-07-30T07:27:32.651782Z",
     "start_time": "2023-07-30T07:27:31.887852Z"
    }
   }
  },
  {
   "cell_type": "code",
   "execution_count": 8,
   "outputs": [
    {
     "name": "stdout",
     "output_type": "stream",
     "text": [
      "+---+---+---+---+---+---+---+---+\n",
      "| r | n | b | q | k | b | n | r | 8\n",
      "+---+---+---+---+---+---+---+---+\n",
      "| p | p | p | p | p | p | p | p | 7\n",
      "+---+---+---+---+---+---+---+---+\n",
      "|   |   |   |   |   |   |   |   | 6\n",
      "+---+---+---+---+---+---+---+---+\n",
      "|   |   |   |   |   |   |   |   | 5\n",
      "+---+---+---+---+---+---+---+---+\n",
      "|   |   |   |   |   |   |   |   | 4\n",
      "+---+---+---+---+---+---+---+---+\n",
      "|   |   |   |   |   |   |   |   | 3\n",
      "+---+---+---+---+---+---+---+---+\n",
      "| P | P | P | P | P | P | P | P | 2\n",
      "+---+---+---+---+---+---+---+---+\n",
      "| R | N | B | Q | K | B | N | R | 1\n",
      "+---+---+---+---+---+---+---+---+\n",
      "  a   b   c   d   e   f   g   h\n",
      "\n"
     ]
    }
   ],
   "source": [
    "print(stockfish.get_board_visual())"
   ],
   "metadata": {
    "collapsed": false,
    "pycharm": {
     "name": "#%%\n"
    },
    "ExecuteTime": {
     "end_time": "2023-08-02T07:09:09.843119Z",
     "start_time": "2023-08-02T07:09:09.839230Z"
    }
   }
  },
  {
   "cell_type": "code",
   "execution_count": 9,
   "outputs": [],
   "source": [
    "stockfish.make_moves_from_current_position([\"d2d4\"])"
   ],
   "metadata": {
    "collapsed": false,
    "pycharm": {
     "name": "#%%\n"
    },
    "ExecuteTime": {
     "end_time": "2023-08-02T07:09:22.426046Z",
     "start_time": "2023-08-02T07:09:22.421881Z"
    }
   }
  },
  {
   "cell_type": "code",
   "execution_count": 10,
   "outputs": [
    {
     "name": "stdout",
     "output_type": "stream",
     "text": [
      "+---+---+---+---+---+---+---+---+\n",
      "| r | n | b | q | k | b | n | r | 8\n",
      "+---+---+---+---+---+---+---+---+\n",
      "| p | p | p | p | p | p | p | p | 7\n",
      "+---+---+---+---+---+---+---+---+\n",
      "|   |   |   |   |   |   |   |   | 6\n",
      "+---+---+---+---+---+---+---+---+\n",
      "|   |   |   |   |   |   |   |   | 5\n",
      "+---+---+---+---+---+---+---+---+\n",
      "|   |   |   | P |   |   |   |   | 4\n",
      "+---+---+---+---+---+---+---+---+\n",
      "|   |   |   |   |   |   |   |   | 3\n",
      "+---+---+---+---+---+---+---+---+\n",
      "| P | P | P |   | P | P | P | P | 2\n",
      "+---+---+---+---+---+---+---+---+\n",
      "| R | N | B | Q | K | B | N | R | 1\n",
      "+---+---+---+---+---+---+---+---+\n",
      "  a   b   c   d   e   f   g   h\n",
      "\n"
     ]
    }
   ],
   "source": [
    "print(stockfish.get_board_visual())"
   ],
   "metadata": {
    "collapsed": false,
    "pycharm": {
     "name": "#%%\n"
    },
    "ExecuteTime": {
     "end_time": "2023-08-02T07:09:23.613327Z",
     "start_time": "2023-08-02T07:09:23.610254Z"
    }
   }
  },
  {
   "cell_type": "code",
   "execution_count": 12,
   "outputs": [
    {
     "data": {
      "text/plain": "{'type': 'cp', 'value': 19}"
     },
     "execution_count": 12,
     "metadata": {},
     "output_type": "execute_result"
    }
   ],
   "source": [
    "stockfish.get_top_moves(10)"
   ],
   "metadata": {
    "collapsed": false,
    "pycharm": {
     "name": "#%%\n"
    },
    "ExecuteTime": {
     "end_time": "2023-08-02T07:10:06.538668Z",
     "start_time": "2023-08-02T07:10:04.107389Z"
    }
   }
  },
  {
   "cell_type": "code",
   "execution_count": 15,
   "outputs": [
    {
     "data": {
      "text/plain": "[{'Move': 'd7d5', 'Centipawn': 31, 'Mate': None},\n {'Move': 'g8f6', 'Centipawn': 34, 'Mate': None},\n {'Move': 'c7c6', 'Centipawn': 34, 'Mate': None},\n {'Move': 'e7e6', 'Centipawn': 36, 'Mate': None},\n {'Move': 'a7a6', 'Centipawn': 53, 'Mate': None},\n {'Move': 'f7f5', 'Centipawn': 55, 'Mate': None},\n {'Move': 'd7d6', 'Centipawn': 57, 'Mate': None},\n {'Move': 'g7g6', 'Centipawn': 61, 'Mate': None},\n {'Move': 'b8c6', 'Centipawn': 62, 'Mate': None},\n {'Move': 'c7c5', 'Centipawn': 67, 'Mate': None}]"
     },
     "execution_count": 15,
     "metadata": {},
     "output_type": "execute_result"
    }
   ],
   "source": [
    "stockfish.set_elo_rating(3500)\n",
    "stockfish.get_top_moves(10)"
   ],
   "metadata": {
    "collapsed": false,
    "ExecuteTime": {
     "end_time": "2023-08-02T07:11:21.481912Z",
     "start_time": "2023-08-02T07:11:19.996301Z"
    }
   }
  },
  {
   "cell_type": "code",
   "execution_count": 108,
   "outputs": [
    {
     "data": {
      "text/plain": "'Darwin'"
     },
     "execution_count": 108,
     "metadata": {},
     "output_type": "execute_result"
    }
   ],
   "source": [
    "import platform\n",
    "import numpy as np\n",
    "platform.system()"
   ],
   "metadata": {
    "collapsed": false,
    "pycharm": {
     "name": "#%%\n"
    },
    "ExecuteTime": {
     "end_time": "2023-07-30T07:27:33.727740Z",
     "start_time": "2023-07-30T07:27:33.725379Z"
    }
   }
  },
  {
   "cell_type": "code",
   "execution_count": 109,
   "outputs": [
    {
     "data": {
      "text/plain": "{'type': 'cp', 'value': 43}"
     },
     "execution_count": 109,
     "metadata": {},
     "output_type": "execute_result"
    }
   ],
   "source": [
    "stockfish.get_evaluation()"
   ],
   "metadata": {
    "collapsed": false,
    "ExecuteTime": {
     "end_time": "2023-07-30T07:27:33.802312Z",
     "start_time": "2023-07-30T07:27:33.728292Z"
    }
   }
  },
  {
   "cell_type": "code",
   "execution_count": 110,
   "outputs": [],
   "source": [
    "stockfish.set_fen_position(\"6qk/8/8/8/8/8/Q6p/7K b - - 0 1\")"
   ],
   "metadata": {
    "collapsed": false,
    "ExecuteTime": {
     "end_time": "2023-07-30T07:27:33.828651Z",
     "start_time": "2023-07-30T07:27:33.806037Z"
    }
   }
  },
  {
   "cell_type": "code",
   "execution_count": 111,
   "outputs": [
    {
     "data": {
      "text/plain": "[{'Move': 'g8g1', 'Centipawn': None, 'Mate': -1},\n {'Move': 'g8g5', 'Centipawn': -4, 'Mate': None},\n {'Move': 'g8c8', 'Centipawn': -3, 'Mate': None},\n {'Move': 'g8g6', 'Centipawn': -1, 'Mate': None},\n {'Move': 'g8d8', 'Centipawn': 0, 'Mate': None},\n {'Move': 'g8e8', 'Centipawn': 0, 'Mate': None},\n {'Move': 'g8h7', 'Centipawn': 0, 'Mate': None},\n {'Move': 'g8f8', 'Centipawn': 0, 'Mate': None},\n {'Move': 'g8g7', 'Centipawn': 0, 'Mate': None},\n {'Move': 'g8a2', 'Centipawn': 0, 'Mate': None}]"
     },
     "execution_count": 111,
     "metadata": {},
     "output_type": "execute_result"
    }
   ],
   "source": [
    "stockfish.get_top_moves(10)"
   ],
   "metadata": {
    "collapsed": false,
    "ExecuteTime": {
     "end_time": "2023-07-30T07:27:34.155106Z",
     "start_time": "2023-07-30T07:27:33.815271Z"
    }
   }
  },
  {
   "cell_type": "code",
   "execution_count": 112,
   "outputs": [
    {
     "name": "stdout",
     "output_type": "stream",
     "text": [
      "{'(0.5, 1),(0.5, 1)': 92, '(0.5, 1),(-0.5, 0.5)': 85, '(0.5, 1),(-3, -1)': 60, '(-0.5, 0.5),(-0.5, 0.5)': 135, '(-0.5, 0.5),(1, 3)': 26, '(-3, -1),(-3, -1)': 973, '(-3, -1),(-1, -0.5)': 36, '(-3, -1),(-0.5, 0.5)': 23, '(-3, -1),(0.5, 1)': 6, '(0.5, 1),(1, 3)': 48, '(1, 3),(1, 3)': 419, '(1, 3),(-0.5, 0.5)': 116, '(1, 3),(-3, -1)': 43, '(1, 3),(0.5, 1)': 103, '(-0.5, 0.5),(-3, -1)': 101, '(-0.5, 0.5),(-5, -3)': 18, '(-3, -1),(-5, -3)': 362, '(-0.5, 0.5),(-1, -0.5)': 57, '(-1, -0.5),(-3, -1)': 160, '(-1, -0.5),(-5, -3)': 18, '(1, 3),(-1, -0.5)': 41, '(-1, -0.5),(-1, -0.5)': 69, '(0.5, 1),(-5, -3)': 11, '(-0.5, 0.5),(0.5, 1)': 32, '(-5, -3),(-3, -1)': 76, '(-5, -3),(-1, -0.5)': 2, '(-3, -1),(1, 3)': 13, '(-5, -3),(-5, -3)': 145, '(1, 3),(3, 5)': 32, '(-3, -1),(3, 5)': 5, '(0.5, 1),(3, 5)': 6, '(-1, -0.5),(-0.5, 0.5)': 22, '(-1, -0.5),(1, 3)': 5, '(-0.5, 0.5),(3, 5)': 5, '(-5, -3),(-0.5, 0.5)': 5, '(-5, -3),(0.5, 1)': 4, '(-5, -3),(1, 3)': 3, '(1, 3),(5, 10)': 1, '(-1, -0.5),(0.5, 1)': 5, '(-1, -0.5),(3, 5)': 1, '(0.5, 1),(5, 10)': 1, '(3, 5),(3, 5)': 83, '(3, 5),(1, 3)': 104, '(-5, -3),(-10, -5)': 20, '(0.5, 1),(-1, -0.5)': 34, '(-3, -1),(-10, -5)': 34, '(3, 5),(-5, -3)': 11, '(3, 5),(0.5, 1)': 9, '(0.5, 1),(-10, -5)': 4, '(3, 5),(-0.5, 0.5)': 8, '(3, 5),(5, 10)': 3, '(3, 5),(-3, -1)': 11, '(-0.5, 0.5),(-10, -5)': 1, '(3, 5),(-1, -0.5)': 3, '(1, 3),(-10, -5)': 8, '(1, 3),(-5, -3)': 12, '(3, 5),(-10, -5)': 3}\n"
     ]
    }
   ],
   "source": [
    "import json\n",
    "import numpy as np\n",
    "import pandas as pd\n",
    "from weighted_directed_graph import weighted_directed_graph\n",
    "with open(\"output/test/1\") as file:\n",
    "    s = file.read().replace(\"'\", \"\\\"\")\n",
    "    dc = json.loads(s)\n",
    "    print(dc)"
   ],
   "metadata": {
    "collapsed": false,
    "ExecuteTime": {
     "end_time": "2023-07-30T07:27:34.155343Z",
     "start_time": "2023-07-30T07:27:34.145449Z"
    }
   }
  },
  {
   "cell_type": "code",
   "execution_count": 113,
   "outputs": [
    {
     "name": "stdout",
     "output_type": "stream",
     "text": [
      "{'(0.5, 1)|(0.5, 1)': 90, '(0.5, 1)|(-0.5, 0.5)': 113, '(0.5, 1)|(-3, -1)': 81, '(-3, -1)|(-3, -1)': 1220, '(-3, -1)|(-1, -0.5)': 41, '(-1, -0.5)|(-0.5, 0.5)': 39, '(-1, -0.5)|(1, 3)': 6, '(0.5, 1)|(1, 3)': 59, '(-3, -1)|(-0.5, 0.5)': 37, '(1, 3)|(1, 3)': 413, '(1, 3)|(0.5, 1)': 134, '(1, 3)|(-0.5, 0.5)': 114, '(-3, -1)|(-5, -3)': 258, '(-1, -0.5)|(-1, -0.5)': 113, '(-1, -0.5)|(-3, -1)': 177, '(-1, -0.5)|(-5, -3)': 19, '(0.5, 1)|(-1, -0.5)': 30, '(1, 3)|(-1, -0.5)': 35, '(1, 3)|(-3, -1)': 54, '(-0.5, 0.5)|(-1, -0.5)': 110, '(-5, -3)|(-5, -3)': 66, '(-5, -3)|(-3, -1)': 40, '(-1, -0.5)|(0.5, 1)': 5, '(-0.5, 0.5)|(-0.5, 0.5)': 165, '(-0.5, 0.5)|(0.5, 1)': 25, '(1, 3)|(3, 5)': 11, '(-0.5, 0.5)|(1, 3)': 25, '(-3, -1)|(0.5, 1)': 7, '(-3, -1)|(1, 3)': 17, '(-1, -0.5)|(3, 5)': 1, '(1, 3)|(5, 10)': 1, '(-5, -3)|(-0.5, 0.5)': 3, '(-5, -3)|(-1, -0.5)': 1, '(-0.5, 0.5)|(3, 5)': 1, '(-0.5, 0.5)|(-3, -1)': 159, '(-3, -1)|(-10, -5)': 25, '(-0.5, 0.5)|(-5, -3)': 15, '(0.5, 1)|(-5, -3)': 29, '(3, 5)|(1, 3)': 34, '(3, 5)|(-0.5, 0.5)': 11, '(3, 5)|(3, 5)': 41, '(0.5, 1)|(-10, -5)': 3, '(3, 5)|(0.5, 1)': 4, '(1, 3)|(-10, -5)': 2, '(1, 3)|(-5, -3)': 4}\n"
     ]
    },
    {
     "data": {
      "text/plain": "array([[0.        , 0.        , 0.        , 0.        , 0.        ,\n        0.        , 0.        , 0.        , 0.        , 0.        ,\n        0.        , 0.        , 0.        , 0.        , 0.        ],\n       [0.        , 0.        , 0.        , 0.        , 0.        ,\n        0.        , 0.        , 0.        , 0.        , 0.        ,\n        0.        , 0.        , 0.        , 0.        , 0.        ],\n       [0.        , 0.        , 0.        , 0.        , 0.        ,\n        0.        , 0.        , 0.        , 0.        , 0.        ,\n        0.        , 0.        , 0.        , 0.        , 0.        ],\n       [0.        , 0.        , 0.        , 0.        , 0.        ,\n        0.        , 0.        , 0.        , 0.        , 0.        ,\n        0.        , 0.        , 0.        , 0.        , 0.        ],\n       [0.        , 0.        , 0.        , 0.        , 0.6       ,\n        0.36363636, 0.00909091, 0.02727273, 0.        , 0.        ,\n        0.        , 0.        , 0.        , 0.        , 0.        ],\n       [0.        , 0.        , 0.        , 0.01557632, 0.16074766,\n        0.76012461, 0.02554517, 0.02305296, 0.00436137, 0.0105919 ,\n        0.        , 0.        , 0.        , 0.        , 0.        ],\n       [0.        , 0.        , 0.        , 0.        , 0.05277778,\n        0.49166667, 0.31388889, 0.10833333, 0.01388889, 0.01666667,\n        0.00277778, 0.        , 0.        , 0.        , 0.        ],\n       [0.        , 0.        , 0.        , 0.        , 0.03      ,\n        0.318     , 0.22      , 0.33      , 0.05      , 0.05      ,\n        0.002     , 0.        , 0.        , 0.        , 0.        ],\n       [0.        , 0.        , 0.        , 0.00740741, 0.07160494,\n        0.2       , 0.07407407, 0.27901235, 0.22222222, 0.14567901,\n        0.        , 0.        , 0.        , 0.        , 0.        ],\n       [0.        , 0.        , 0.        , 0.00260417, 0.00520833,\n        0.0703125 , 0.04557292, 0.1484375 , 0.17447917, 0.53776042,\n        0.01432292, 0.00130208, 0.        , 0.        , 0.        ],\n       [0.        , 0.        , 0.        , 0.        , 0.        ,\n        0.        , 0.        , 0.12222222, 0.04444444, 0.37777778,\n        0.45555556, 0.        , 0.        , 0.        , 0.        ],\n       [0.        , 0.        , 0.        , 0.        , 0.        ,\n        0.        , 0.        , 0.        , 0.        , 0.        ,\n        0.        , 0.        , 0.        , 0.        , 0.        ],\n       [0.        , 0.        , 0.        , 0.        , 0.        ,\n        0.        , 0.        , 0.        , 0.        , 0.        ,\n        0.        , 0.        , 0.        , 0.        , 0.        ],\n       [0.        , 0.        , 0.        , 0.        , 0.        ,\n        0.        , 0.        , 0.        , 0.        , 0.        ,\n        0.        , 0.        , 0.        , 0.        , 0.        ],\n       [0.        , 0.        , 0.        , 0.        , 0.        ,\n        0.        , 0.        , 0.        , 0.        , 0.        ,\n        0.        , 0.        , 0.        , 0.        , 0.        ]])"
     },
     "execution_count": 113,
     "metadata": {},
     "output_type": "execute_result"
    }
   ],
   "source": [
    "from typing import Any\n",
    "\n",
    "states = [(-float(\"inf\"), -20), (-20, -10), (-10, -5), (-5, -3), (-3, -1), (-1, -0.5), (-0.5, 0.5), (0.5, 1), (1, 3), (3, 5), (5, 10), (10, 20), (20, float(\"inf\"))]\n",
    "states_as_string = list(map(lambda x: f\"{x}\", states))\n",
    "weights = None\n",
    "\n",
    "with open(\"output/test2/0.json\") as file:\n",
    "    s = file.read().replace(\"'\", \"\\\"\")\n",
    "    weights = json.loads(s)\n",
    "\n",
    "print(weights)\n",
    "all_states = [\"-1\"] + states_as_string + [\"1\"]\n",
    "\n",
    "def build_adjacency_matrix(weights):\n",
    "    num_states = len(states_as_string) + 2\n",
    "    all_states = [\"-1\"] + states_as_string + [\"1\"]\n",
    "    state_to_index_mapping = dict()\n",
    "    matrix = np.zeros(shape=(num_states, num_states))\n",
    "\n",
    "    for i, state_name in enumerate(all_states):\n",
    "        state_to_index_mapping[state_name] = i\n",
    "\n",
    "    for edge, weight in weights.items():\n",
    "        u, v = edge.split(\"|\")\n",
    "        u_ind = state_to_index_mapping[u]\n",
    "        v_ind = state_to_index_mapping[v]\n",
    "        matrix[u_ind, v_ind] = weight\n",
    "\n",
    "    return matrix\n",
    "\n",
    "def build_stochastic_matrix(adjacency_matrix: np.ndarray) -> Exception | Any:\n",
    "    n, d = adjacency_matrix.shape\n",
    "    if n != d:\n",
    "        return Exception(f\"n: {n} is not equal to d: {d} in adjacency matrix.\")\n",
    "    stochastic_matrix = np.zeros(shape=(n, n))\n",
    "    for i in range(n):\n",
    "        total_in_row = 0\n",
    "        for j in range(n):\n",
    "            total_in_row += adjacency_matrix[i, j]\n",
    "        if total_in_row != 0:\n",
    "            for j in range(n):\n",
    "                stochastic_matrix[i, j] = adjacency_matrix[i, j] / total_in_row\n",
    "    return stochastic_matrix\n",
    "\n",
    "adjacency_matrix = build_adjacency_matrix(weights)\n",
    "stochastic_matrix = build_stochastic_matrix(adjacency_matrix)\n",
    "stochastic_matrix"
   ],
   "metadata": {
    "collapsed": false,
    "ExecuteTime": {
     "end_time": "2023-07-30T07:27:34.155531Z",
     "start_time": "2023-07-30T07:27:34.155012Z"
    }
   }
  },
  {
   "cell_type": "code",
   "execution_count": 114,
   "outputs": [
    {
     "data": {
      "text/plain": "              -1  (-inf, -20)  (-20, -10)  (-10, -5)  (-5, -3)  (-3, -1)  \\\n-1           0.0          0.0         0.0   0.000000  0.000000  0.000000   \n(-inf, -20)  0.0          0.0         0.0   0.000000  0.000000  0.000000   \n(-20, -10)   0.0          0.0         0.0   0.000000  0.000000  0.000000   \n(-10, -5)    0.0          0.0         0.0   0.000000  0.000000  0.000000   \n(-5, -3)     0.0          0.0         0.0   0.000000  0.600000  0.363636   \n(-3, -1)     0.0          0.0         0.0   0.015576  0.160748  0.760125   \n(-1, -0.5)   0.0          0.0         0.0   0.000000  0.052778  0.491667   \n(-0.5, 0.5)  0.0          0.0         0.0   0.000000  0.030000  0.318000   \n(0.5, 1)     0.0          0.0         0.0   0.007407  0.071605  0.200000   \n(1, 3)       0.0          0.0         0.0   0.002604  0.005208  0.070312   \n(3, 5)       0.0          0.0         0.0   0.000000  0.000000  0.000000   \n(5, 10)      0.0          0.0         0.0   0.000000  0.000000  0.000000   \n(10, 20)     0.0          0.0         0.0   0.000000  0.000000  0.000000   \n(20, inf)    0.0          0.0         0.0   0.000000  0.000000  0.000000   \n1            0.0          0.0         0.0   0.000000  0.000000  0.000000   \n\n             (-1, -0.5)  (-0.5, 0.5)  (0.5, 1)    (1, 3)    (3, 5)   (5, 10)  \\\n-1             0.000000     0.000000  0.000000  0.000000  0.000000  0.000000   \n(-inf, -20)    0.000000     0.000000  0.000000  0.000000  0.000000  0.000000   \n(-20, -10)     0.000000     0.000000  0.000000  0.000000  0.000000  0.000000   \n(-10, -5)      0.000000     0.000000  0.000000  0.000000  0.000000  0.000000   \n(-5, -3)       0.009091     0.027273  0.000000  0.000000  0.000000  0.000000   \n(-3, -1)       0.025545     0.023053  0.004361  0.010592  0.000000  0.000000   \n(-1, -0.5)     0.313889     0.108333  0.013889  0.016667  0.002778  0.000000   \n(-0.5, 0.5)    0.220000     0.330000  0.050000  0.050000  0.002000  0.000000   \n(0.5, 1)       0.074074     0.279012  0.222222  0.145679  0.000000  0.000000   \n(1, 3)         0.045573     0.148438  0.174479  0.537760  0.014323  0.001302   \n(3, 5)         0.000000     0.122222  0.044444  0.377778  0.455556  0.000000   \n(5, 10)        0.000000     0.000000  0.000000  0.000000  0.000000  0.000000   \n(10, 20)       0.000000     0.000000  0.000000  0.000000  0.000000  0.000000   \n(20, inf)      0.000000     0.000000  0.000000  0.000000  0.000000  0.000000   \n1              0.000000     0.000000  0.000000  0.000000  0.000000  0.000000   \n\n             (10, 20)  (20, inf)    1  \n-1                0.0        0.0  0.0  \n(-inf, -20)       0.0        0.0  0.0  \n(-20, -10)        0.0        0.0  0.0  \n(-10, -5)         0.0        0.0  0.0  \n(-5, -3)          0.0        0.0  0.0  \n(-3, -1)          0.0        0.0  0.0  \n(-1, -0.5)        0.0        0.0  0.0  \n(-0.5, 0.5)       0.0        0.0  0.0  \n(0.5, 1)          0.0        0.0  0.0  \n(1, 3)            0.0        0.0  0.0  \n(3, 5)            0.0        0.0  0.0  \n(5, 10)           0.0        0.0  0.0  \n(10, 20)          0.0        0.0  0.0  \n(20, inf)         0.0        0.0  0.0  \n1                 0.0        0.0  0.0  ",
      "text/html": "<div>\n<style scoped>\n    .dataframe tbody tr th:only-of-type {\n        vertical-align: middle;\n    }\n\n    .dataframe tbody tr th {\n        vertical-align: top;\n    }\n\n    .dataframe thead th {\n        text-align: right;\n    }\n</style>\n<table border=\"1\" class=\"dataframe\">\n  <thead>\n    <tr style=\"text-align: right;\">\n      <th></th>\n      <th>-1</th>\n      <th>(-inf, -20)</th>\n      <th>(-20, -10)</th>\n      <th>(-10, -5)</th>\n      <th>(-5, -3)</th>\n      <th>(-3, -1)</th>\n      <th>(-1, -0.5)</th>\n      <th>(-0.5, 0.5)</th>\n      <th>(0.5, 1)</th>\n      <th>(1, 3)</th>\n      <th>(3, 5)</th>\n      <th>(5, 10)</th>\n      <th>(10, 20)</th>\n      <th>(20, inf)</th>\n      <th>1</th>\n    </tr>\n  </thead>\n  <tbody>\n    <tr>\n      <th>-1</th>\n      <td>0.0</td>\n      <td>0.0</td>\n      <td>0.0</td>\n      <td>0.000000</td>\n      <td>0.000000</td>\n      <td>0.000000</td>\n      <td>0.000000</td>\n      <td>0.000000</td>\n      <td>0.000000</td>\n      <td>0.000000</td>\n      <td>0.000000</td>\n      <td>0.000000</td>\n      <td>0.0</td>\n      <td>0.0</td>\n      <td>0.0</td>\n    </tr>\n    <tr>\n      <th>(-inf, -20)</th>\n      <td>0.0</td>\n      <td>0.0</td>\n      <td>0.0</td>\n      <td>0.000000</td>\n      <td>0.000000</td>\n      <td>0.000000</td>\n      <td>0.000000</td>\n      <td>0.000000</td>\n      <td>0.000000</td>\n      <td>0.000000</td>\n      <td>0.000000</td>\n      <td>0.000000</td>\n      <td>0.0</td>\n      <td>0.0</td>\n      <td>0.0</td>\n    </tr>\n    <tr>\n      <th>(-20, -10)</th>\n      <td>0.0</td>\n      <td>0.0</td>\n      <td>0.0</td>\n      <td>0.000000</td>\n      <td>0.000000</td>\n      <td>0.000000</td>\n      <td>0.000000</td>\n      <td>0.000000</td>\n      <td>0.000000</td>\n      <td>0.000000</td>\n      <td>0.000000</td>\n      <td>0.000000</td>\n      <td>0.0</td>\n      <td>0.0</td>\n      <td>0.0</td>\n    </tr>\n    <tr>\n      <th>(-10, -5)</th>\n      <td>0.0</td>\n      <td>0.0</td>\n      <td>0.0</td>\n      <td>0.000000</td>\n      <td>0.000000</td>\n      <td>0.000000</td>\n      <td>0.000000</td>\n      <td>0.000000</td>\n      <td>0.000000</td>\n      <td>0.000000</td>\n      <td>0.000000</td>\n      <td>0.000000</td>\n      <td>0.0</td>\n      <td>0.0</td>\n      <td>0.0</td>\n    </tr>\n    <tr>\n      <th>(-5, -3)</th>\n      <td>0.0</td>\n      <td>0.0</td>\n      <td>0.0</td>\n      <td>0.000000</td>\n      <td>0.600000</td>\n      <td>0.363636</td>\n      <td>0.009091</td>\n      <td>0.027273</td>\n      <td>0.000000</td>\n      <td>0.000000</td>\n      <td>0.000000</td>\n      <td>0.000000</td>\n      <td>0.0</td>\n      <td>0.0</td>\n      <td>0.0</td>\n    </tr>\n    <tr>\n      <th>(-3, -1)</th>\n      <td>0.0</td>\n      <td>0.0</td>\n      <td>0.0</td>\n      <td>0.015576</td>\n      <td>0.160748</td>\n      <td>0.760125</td>\n      <td>0.025545</td>\n      <td>0.023053</td>\n      <td>0.004361</td>\n      <td>0.010592</td>\n      <td>0.000000</td>\n      <td>0.000000</td>\n      <td>0.0</td>\n      <td>0.0</td>\n      <td>0.0</td>\n    </tr>\n    <tr>\n      <th>(-1, -0.5)</th>\n      <td>0.0</td>\n      <td>0.0</td>\n      <td>0.0</td>\n      <td>0.000000</td>\n      <td>0.052778</td>\n      <td>0.491667</td>\n      <td>0.313889</td>\n      <td>0.108333</td>\n      <td>0.013889</td>\n      <td>0.016667</td>\n      <td>0.002778</td>\n      <td>0.000000</td>\n      <td>0.0</td>\n      <td>0.0</td>\n      <td>0.0</td>\n    </tr>\n    <tr>\n      <th>(-0.5, 0.5)</th>\n      <td>0.0</td>\n      <td>0.0</td>\n      <td>0.0</td>\n      <td>0.000000</td>\n      <td>0.030000</td>\n      <td>0.318000</td>\n      <td>0.220000</td>\n      <td>0.330000</td>\n      <td>0.050000</td>\n      <td>0.050000</td>\n      <td>0.002000</td>\n      <td>0.000000</td>\n      <td>0.0</td>\n      <td>0.0</td>\n      <td>0.0</td>\n    </tr>\n    <tr>\n      <th>(0.5, 1)</th>\n      <td>0.0</td>\n      <td>0.0</td>\n      <td>0.0</td>\n      <td>0.007407</td>\n      <td>0.071605</td>\n      <td>0.200000</td>\n      <td>0.074074</td>\n      <td>0.279012</td>\n      <td>0.222222</td>\n      <td>0.145679</td>\n      <td>0.000000</td>\n      <td>0.000000</td>\n      <td>0.0</td>\n      <td>0.0</td>\n      <td>0.0</td>\n    </tr>\n    <tr>\n      <th>(1, 3)</th>\n      <td>0.0</td>\n      <td>0.0</td>\n      <td>0.0</td>\n      <td>0.002604</td>\n      <td>0.005208</td>\n      <td>0.070312</td>\n      <td>0.045573</td>\n      <td>0.148438</td>\n      <td>0.174479</td>\n      <td>0.537760</td>\n      <td>0.014323</td>\n      <td>0.001302</td>\n      <td>0.0</td>\n      <td>0.0</td>\n      <td>0.0</td>\n    </tr>\n    <tr>\n      <th>(3, 5)</th>\n      <td>0.0</td>\n      <td>0.0</td>\n      <td>0.0</td>\n      <td>0.000000</td>\n      <td>0.000000</td>\n      <td>0.000000</td>\n      <td>0.000000</td>\n      <td>0.122222</td>\n      <td>0.044444</td>\n      <td>0.377778</td>\n      <td>0.455556</td>\n      <td>0.000000</td>\n      <td>0.0</td>\n      <td>0.0</td>\n      <td>0.0</td>\n    </tr>\n    <tr>\n      <th>(5, 10)</th>\n      <td>0.0</td>\n      <td>0.0</td>\n      <td>0.0</td>\n      <td>0.000000</td>\n      <td>0.000000</td>\n      <td>0.000000</td>\n      <td>0.000000</td>\n      <td>0.000000</td>\n      <td>0.000000</td>\n      <td>0.000000</td>\n      <td>0.000000</td>\n      <td>0.000000</td>\n      <td>0.0</td>\n      <td>0.0</td>\n      <td>0.0</td>\n    </tr>\n    <tr>\n      <th>(10, 20)</th>\n      <td>0.0</td>\n      <td>0.0</td>\n      <td>0.0</td>\n      <td>0.000000</td>\n      <td>0.000000</td>\n      <td>0.000000</td>\n      <td>0.000000</td>\n      <td>0.000000</td>\n      <td>0.000000</td>\n      <td>0.000000</td>\n      <td>0.000000</td>\n      <td>0.000000</td>\n      <td>0.0</td>\n      <td>0.0</td>\n      <td>0.0</td>\n    </tr>\n    <tr>\n      <th>(20, inf)</th>\n      <td>0.0</td>\n      <td>0.0</td>\n      <td>0.0</td>\n      <td>0.000000</td>\n      <td>0.000000</td>\n      <td>0.000000</td>\n      <td>0.000000</td>\n      <td>0.000000</td>\n      <td>0.000000</td>\n      <td>0.000000</td>\n      <td>0.000000</td>\n      <td>0.000000</td>\n      <td>0.0</td>\n      <td>0.0</td>\n      <td>0.0</td>\n    </tr>\n    <tr>\n      <th>1</th>\n      <td>0.0</td>\n      <td>0.0</td>\n      <td>0.0</td>\n      <td>0.000000</td>\n      <td>0.000000</td>\n      <td>0.000000</td>\n      <td>0.000000</td>\n      <td>0.000000</td>\n      <td>0.000000</td>\n      <td>0.000000</td>\n      <td>0.000000</td>\n      <td>0.000000</td>\n      <td>0.0</td>\n      <td>0.0</td>\n      <td>0.0</td>\n    </tr>\n  </tbody>\n</table>\n</div>"
     },
     "execution_count": 114,
     "metadata": {},
     "output_type": "execute_result"
    }
   ],
   "source": [
    "pd.DataFrame(stochastic_matrix, columns=all_states, index=all_states)"
   ],
   "metadata": {
    "collapsed": false,
    "ExecuteTime": {
     "end_time": "2023-07-30T07:27:34.167390Z",
     "start_time": "2023-07-30T07:27:34.164858Z"
    }
   }
  },
  {
   "cell_type": "code",
   "execution_count": 114,
   "outputs": [],
   "source": [],
   "metadata": {
    "collapsed": false,
    "ExecuteTime": {
     "end_time": "2023-07-30T07:27:34.168773Z",
     "start_time": "2023-07-30T07:27:34.166753Z"
    }
   }
  },
  {
   "cell_type": "code",
   "execution_count": 115,
   "outputs": [
    {
     "data": {
      "text/plain": "    -1  (-inf, -20)  (-20, -10)  (-10, -5)  (-5, -3)  (-3, -1)  (-1, -0.5)  \\\n0  0.0          0.0         0.0   0.000000  0.030000  0.318000    0.220000   \n1  0.0          0.0         0.0   0.004587  0.137615  0.305810    0.145260   \n2  0.0          0.0         0.0   0.005254  0.080560  0.350263    0.099825   \n3  0.0          0.0         0.0   0.009524  0.030952  0.300000    0.207143   \n4  0.0          0.0         0.0   0.007026  0.056206  0.393443    0.128806   \n\n   (-0.5, 0.5)  (0.5, 1)    (1, 3)    (3, 5)   (5, 10)  (10, 20)  (20, inf)  \\\n0     0.330000  0.050000  0.050000  0.002000  0.000000       0.0        0.0   \n1     0.292049  0.059633  0.044343  0.010703  0.000000       0.0        0.0   \n2     0.306480  0.091068  0.052539  0.012259  0.001751       0.0        0.0   \n3     0.342857  0.066667  0.035714  0.007143  0.000000       0.0        0.0   \n4     0.316159  0.049180  0.049180  0.000000  0.000000       0.0        0.0   \n\n     1  \n0  0.0  \n1  0.0  \n2  0.0  \n3  0.0  \n4  0.0  ",
      "text/html": "<div>\n<style scoped>\n    .dataframe tbody tr th:only-of-type {\n        vertical-align: middle;\n    }\n\n    .dataframe tbody tr th {\n        vertical-align: top;\n    }\n\n    .dataframe thead th {\n        text-align: right;\n    }\n</style>\n<table border=\"1\" class=\"dataframe\">\n  <thead>\n    <tr style=\"text-align: right;\">\n      <th></th>\n      <th>-1</th>\n      <th>(-inf, -20)</th>\n      <th>(-20, -10)</th>\n      <th>(-10, -5)</th>\n      <th>(-5, -3)</th>\n      <th>(-3, -1)</th>\n      <th>(-1, -0.5)</th>\n      <th>(-0.5, 0.5)</th>\n      <th>(0.5, 1)</th>\n      <th>(1, 3)</th>\n      <th>(3, 5)</th>\n      <th>(5, 10)</th>\n      <th>(10, 20)</th>\n      <th>(20, inf)</th>\n      <th>1</th>\n    </tr>\n  </thead>\n  <tbody>\n    <tr>\n      <th>0</th>\n      <td>0.0</td>\n      <td>0.0</td>\n      <td>0.0</td>\n      <td>0.000000</td>\n      <td>0.030000</td>\n      <td>0.318000</td>\n      <td>0.220000</td>\n      <td>0.330000</td>\n      <td>0.050000</td>\n      <td>0.050000</td>\n      <td>0.002000</td>\n      <td>0.000000</td>\n      <td>0.0</td>\n      <td>0.0</td>\n      <td>0.0</td>\n    </tr>\n    <tr>\n      <th>1</th>\n      <td>0.0</td>\n      <td>0.0</td>\n      <td>0.0</td>\n      <td>0.004587</td>\n      <td>0.137615</td>\n      <td>0.305810</td>\n      <td>0.145260</td>\n      <td>0.292049</td>\n      <td>0.059633</td>\n      <td>0.044343</td>\n      <td>0.010703</td>\n      <td>0.000000</td>\n      <td>0.0</td>\n      <td>0.0</td>\n      <td>0.0</td>\n    </tr>\n    <tr>\n      <th>2</th>\n      <td>0.0</td>\n      <td>0.0</td>\n      <td>0.0</td>\n      <td>0.005254</td>\n      <td>0.080560</td>\n      <td>0.350263</td>\n      <td>0.099825</td>\n      <td>0.306480</td>\n      <td>0.091068</td>\n      <td>0.052539</td>\n      <td>0.012259</td>\n      <td>0.001751</td>\n      <td>0.0</td>\n      <td>0.0</td>\n      <td>0.0</td>\n    </tr>\n    <tr>\n      <th>3</th>\n      <td>0.0</td>\n      <td>0.0</td>\n      <td>0.0</td>\n      <td>0.009524</td>\n      <td>0.030952</td>\n      <td>0.300000</td>\n      <td>0.207143</td>\n      <td>0.342857</td>\n      <td>0.066667</td>\n      <td>0.035714</td>\n      <td>0.007143</td>\n      <td>0.000000</td>\n      <td>0.0</td>\n      <td>0.0</td>\n      <td>0.0</td>\n    </tr>\n    <tr>\n      <th>4</th>\n      <td>0.0</td>\n      <td>0.0</td>\n      <td>0.0</td>\n      <td>0.007026</td>\n      <td>0.056206</td>\n      <td>0.393443</td>\n      <td>0.128806</td>\n      <td>0.316159</td>\n      <td>0.049180</td>\n      <td>0.049180</td>\n      <td>0.000000</td>\n      <td>0.000000</td>\n      <td>0.0</td>\n      <td>0.0</td>\n      <td>0.0</td>\n    </tr>\n  </tbody>\n</table>\n</div>"
     },
     "execution_count": 115,
     "metadata": {},
     "output_type": "execute_result"
    }
   ],
   "source": [
    "inputs = [f\"output/test2/{i}.json\" for i in range(5)]\n",
    "n = 15\n",
    "m = np.zeros(shape=(5, 15))\n",
    "\n",
    "for i in range(len(inputs)):\n",
    "    with open(inputs[i]) as file:\n",
    "        s = file.read().replace(\"'\", \"\\\"\")\n",
    "        weights = json.loads(s)\n",
    "        adj = build_adjacency_matrix(weights)\n",
    "        stoch = build_stochastic_matrix(adj)\n",
    "        m[i] = stoch[stoch.shape[0] // 2]\n",
    "\n",
    "pd.DataFrame(m, columns=all_states)"
   ],
   "metadata": {
    "collapsed": false,
    "ExecuteTime": {
     "end_time": "2023-07-30T07:27:34.176315Z",
     "start_time": "2023-07-30T07:27:34.169530Z"
    }
   }
  },
  {
   "cell_type": "code",
   "execution_count": 116,
   "outputs": [
    {
     "data": {
      "text/plain": "[{'Move': 'd8b6', 'Centipawn': 56, 'Mate': None},\n {'Move': 'c8b7', 'Centipawn': 64, 'Mate': None},\n {'Move': 'd8c7', 'Centipawn': 67, 'Mate': None},\n {'Move': 'h8h5', 'Centipawn': 100, 'Mate': None},\n {'Move': 'f8h6', 'Centipawn': 108, 'Mate': None}]"
     },
     "execution_count": 97,
     "metadata": {},
     "output_type": "execute_result"
    },
    {
     "data": {
      "text/plain": "[{'Move': 'd8b6', 'Centipawn': 56, 'Mate': None},\n {'Move': 'c8b7', 'Centipawn': 71, 'Mate': None},\n {'Move': 'd8c7', 'Centipawn': 84, 'Mate': None},\n {'Move': 'h8g8', 'Centipawn': 93, 'Mate': None},\n {'Move': 'h8h5', 'Centipawn': 96, 'Mate': None}]"
     },
     "execution_count": 116,
     "metadata": {},
     "output_type": "execute_result"
    }
   ],
   "source": [
    "stockfish.set_fen_position(\"r1bqkb1r/p2n1p2/2p1pn2/1p2P1B1/2pP4/2N3P1/PP3P1P/R2QKB1R b KQkq - 0 11\")\n",
    "stockfish.get_top_moves(5)"
   ],
   "metadata": {
    "collapsed": false
   }
  },
  {
   "cell_type": "code",
   "execution_count": 116,
   "outputs": [],
   "source": [],
   "metadata": {
    "collapsed": false,
    "ExecuteTime": {
     "end_time": "2023-07-30T07:27:36.767649Z",
     "start_time": "2023-07-30T07:27:30.408500Z"
    }
   }
  }
 ],
 "metadata": {
  "kernelspec": {
   "display_name": "Python 3",
   "language": "python",
   "name": "python3"
  },
  "language_info": {
   "codemirror_mode": {
    "name": "ipython",
    "version": 2
   },
   "file_extension": ".py",
   "mimetype": "text/x-python",
   "name": "python",
   "nbconvert_exporter": "python",
   "pygments_lexer": "ipython2",
   "version": "2.7.6"
  }
 },
 "nbformat": 4,
 "nbformat_minor": 0
}
