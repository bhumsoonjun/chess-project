{
 "cells": [
  {
   "cell_type": "code",
   "execution_count": 1,
   "metadata": {
    "collapsed": true,
    "pycharm": {
     "name": "#%%\n"
    }
   },
   "outputs": [],
   "source": [
    "from recursive.analyser_recursive import analyser_recursive"
   ]
  },
  {
   "cell_type": "code",
   "execution_count": 2,
   "outputs": [],
   "source": [
    "fen = \"8/8/1p3p1p/3p1kp1/8/q7/1q6/3K4 b - - 7 49\"\n",
    "stockfish_conf = {\n",
    "    \"Debug Log File\": \"\",\n",
    "    \"Contempt\": 0,\n",
    "    \"Min Split Depth\": 0,\n",
    "    \"Threads\": 8, # More threads will make the engine stronger, but should be kept at less than the number of logical processors on your computer.\n",
    "    \"Ponder\": \"false\",\n",
    "    \"Hash\": 4096, # Default size is 16 MB. It's recommended that you increase this value, but keep it as some power of 2. E.g., if you're fine using 2 GB of RAM, set Hash to 2048 (11th power of 2).\n",
    "    \"MultiPV\": 5,\n",
    "    \"Skill Level\": 15,\n",
    "    \"Move Overhead\": 0,\n",
    "    \"Minimum Thinking Time\": 100,\n",
    "    \"Slow Mover\": 100,\n",
    "    \"UCI_Chess960\": \"false\",\n",
    "    \"UCI_LimitStrength\": \"false\",\n",
    "    \"UCI_Elo\": 3500\n",
    "}"
   ],
   "metadata": {
    "collapsed": false,
    "pycharm": {
     "name": "#%%\n"
    }
   }
  },
  {
   "cell_type": "code",
   "execution_count": 3,
   "outputs": [],
   "source": [
    "analyser = analyser_recursive(depth=3)"
   ],
   "metadata": {
    "collapsed": false,
    "pycharm": {
     "name": "#%%\n"
    }
   }
  },
  {
   "cell_type": "code",
   "execution_count": 4,
   "outputs": [
    {
     "ename": "KeyError",
     "evalue": "'Centipawn'",
     "output_type": "error",
     "traceback": [
      "\u001B[1;31m---------------------------------------------------------------------------\u001B[0m",
      "\u001B[1;31mKeyError\u001B[0m                                  Traceback (most recent call last)",
      "Input \u001B[1;32mIn [4]\u001B[0m, in \u001B[0;36m<cell line: 1>\u001B[1;34m()\u001B[0m\n\u001B[1;32m----> 1\u001B[0m \u001B[43manalyser\u001B[49m\u001B[38;5;241;43m.\u001B[39;49m\u001B[43mevaluate\u001B[49m\u001B[43m(\u001B[49m\u001B[43mfen\u001B[49m\u001B[43m)\u001B[49m\n",
      "File \u001B[1;32m~\\Desktop\\Stuffs\\Learning - Uni\\University\\research\\chess\\recursive\\analyser_recursive.py:52\u001B[0m, in \u001B[0;36manalyser_recursive.evaluate\u001B[1;34m(self, starting_fen)\u001B[0m\n\u001B[0;32m     49\u001B[0m visited \u001B[38;5;241m=\u001B[39m \u001B[38;5;28mset\u001B[39m()\n\u001B[0;32m     51\u001B[0m \u001B[38;5;28mself\u001B[39m\u001B[38;5;241m.\u001B[39mstockfish\u001B[38;5;241m.\u001B[39mset_fen_position(starting_fen)\n\u001B[1;32m---> 52\u001B[0m init_eval \u001B[38;5;241m=\u001B[39m \u001B[38;5;28;43mself\u001B[39;49m\u001B[38;5;241;43m.\u001B[39;49m\u001B[43mget_eval\u001B[49m\u001B[43m(\u001B[49m\u001B[38;5;28;43mself\u001B[39;49m\u001B[38;5;241;43m.\u001B[39;49m\u001B[43mstockfish\u001B[49m\u001B[38;5;241;43m.\u001B[39;49m\u001B[43mget_evaluation\u001B[49m\u001B[43m(\u001B[49m\u001B[43m)\u001B[49m\u001B[43m)\u001B[49m\n\u001B[0;32m     53\u001B[0m \u001B[38;5;28mself\u001B[39m\u001B[38;5;241m.\u001B[39msearch_tree \u001B[38;5;241m=\u001B[39m tree_node(init_eval, starting_fen, [])\n\u001B[0;32m     54\u001B[0m frontier\u001B[38;5;241m.\u001B[39madd((starting_fen, \u001B[38;5;28mself\u001B[39m\u001B[38;5;241m.\u001B[39msearch_tree))\n",
      "File \u001B[1;32m~\\Desktop\\Stuffs\\Learning - Uni\\University\\research\\chess\\recursive\\analyser_recursive.py:36\u001B[0m, in \u001B[0;36manalyser_recursive.get_eval\u001B[1;34m(self, move)\u001B[0m\n\u001B[0;32m     35\u001B[0m \u001B[38;5;28;01mdef\u001B[39;00m \u001B[38;5;21mget_eval\u001B[39m(\u001B[38;5;28mself\u001B[39m, move: Dict):\n\u001B[1;32m---> 36\u001B[0m     centipawn \u001B[38;5;241m=\u001B[39m \u001B[43mmove\u001B[49m\u001B[43m[\u001B[49m\u001B[38;5;124;43m\"\u001B[39;49m\u001B[38;5;124;43mCentipawn\u001B[39;49m\u001B[38;5;124;43m\"\u001B[39;49m\u001B[43m]\u001B[49m\n\u001B[0;32m     37\u001B[0m     mate \u001B[38;5;241m=\u001B[39m move[\u001B[38;5;124m\"\u001B[39m\u001B[38;5;124mMate\u001B[39m\u001B[38;5;124m\"\u001B[39m]\n\u001B[0;32m     39\u001B[0m     \u001B[38;5;28;01mif\u001B[39;00m centipawn \u001B[38;5;129;01mis\u001B[39;00m \u001B[38;5;129;01mnot\u001B[39;00m \u001B[38;5;28;01mNone\u001B[39;00m:\n",
      "\u001B[1;31mKeyError\u001B[0m: 'Centipawn'"
     ]
    }
   ],
   "source": [
    "analyser.evaluate(fen)"
   ],
   "metadata": {
    "collapsed": false,
    "pycharm": {
     "name": "#%%\n"
    }
   }
  },
  {
   "cell_type": "code",
   "execution_count": null,
   "outputs": [],
   "source": [],
   "metadata": {
    "collapsed": false,
    "pycharm": {
     "name": "#%%\n"
    }
   }
  }
 ],
 "metadata": {
  "kernelspec": {
   "display_name": "Python 3",
   "language": "python",
   "name": "python3"
  },
  "language_info": {
   "codemirror_mode": {
    "name": "ipython",
    "version": 2
   },
   "file_extension": ".py",
   "mimetype": "text/x-python",
   "name": "python",
   "nbconvert_exporter": "python",
   "pygments_lexer": "ipython2",
   "version": "2.7.6"
  }
 },
 "nbformat": 4,
 "nbformat_minor": 0
}